{
 "cells": [
  {
   "cell_type": "code",
   "execution_count": 1,
   "metadata": {
    "collapsed": false
   },
   "outputs": [],
   "source": [
    "exec(open('processing_functions.py',encoding='utf-8').read())\n",
    "\n",
    "from sklearn.feature_extraction.text import TfidfVectorizer\n",
    "import string\n",
    "import pandas\n",
    "import numpy as np\n",
    "import re\n",
    "from sklearn.ensemble import RandomForestClassifier as rfc\n",
    "from sklearn.ensemble import RandomForestRegressor as rfr\n",
    "from scipy.stats import spearmanr as spcorr,pearsonr as pcorr\n",
    "\n",
    "from IPython.display import display\n",
    "import matplotlib.pyplot as plt\n",
    "%matplotlib inline"
   ]
  },
  {
   "cell_type": "code",
   "execution_count": 10,
   "metadata": {
    "collapsed": false
   },
   "outputs": [
    {
     "data": {
      "text/plain": [
       "-1    466\n",
       " 1    437\n",
       "dtype: int64"
      ]
     },
     "execution_count": 10,
     "metadata": {},
     "output_type": "execute_result"
    }
   ],
   "source": [
    "def maxCase(x):\n",
    "    result = [i for (i,v) in zip(range(-2,3),[y==max(x) for y in x]) if v]\n",
    "    if(len(result) > 1):\n",
    "        s = sum(result)\n",
    "        if(s < -2):\n",
    "            return -2\n",
    "        elif(s > 2):\n",
    "            return 2\n",
    "        else:\n",
    "            return s\n",
    "    else:\n",
    "        return result[0]\n",
    "    \n",
    "def worstCase(x):\n",
    "    if x['vneg']>0:\n",
    "        return -2\n",
    "    elif x['neg']>0:\n",
    "        return -1\n",
    "    elif x['neutral']>0:\n",
    "        return 0\n",
    "    elif x['pos']>0:\n",
    "        return 1\n",
    "    else:\n",
    "        return 2\n",
    "    \n",
    "def bestCase(x):\n",
    "    if x['vpos']>0:\n",
    "        return 2\n",
    "    elif x['pos']>0:\n",
    "        return 1\n",
    "    elif x['neutral']>0:\n",
    "        return 0\n",
    "    elif x['neg']>0:\n",
    "        return -1\n",
    "    else:\n",
    "        return -2\n",
    "    \n",
    "def twoClass(x):\n",
    "    if x<0:\n",
    "        return -1\n",
    "    else:\n",
    "        return 1\n",
    "    \n",
    "sentiments = pandas.read_csv('twitter_sentiment_coreNLP.txt')\n",
    "sentiments = sentiments.apply(bestCase,axis=1).apply(twoClass)\n",
    "sentiments.value_counts()"
   ]
  },
  {
   "cell_type": "code",
   "execution_count": 8,
   "metadata": {
    "collapsed": false
   },
   "outputs": [],
   "source": [
    "tweetFile = open('sallie_mae_tweets.txt','r')\n",
    "tweetText = tweetFile.read()\n",
    "tweetText = re.sub(r'\\n+(?!Mon|Tue|Wed|Thu|Fri|Sat|Sun)','',string=tweetText)\n",
    "tweetFile.close()"
   ]
  },
  {
   "cell_type": "code",
   "execution_count": 11,
   "metadata": {
    "collapsed": false
   },
   "outputs": [],
   "source": [
    "dates = []\n",
    "users = []\n",
    "tweets = []\n",
    "pattern = re.compile(r'(\\w{3} \\w{3} \\d\\d \\d\\d:\\d\\d:\\d\\d \\w{3} \\d{4}) (@.+?): (.+)')\n",
    "tweet_breakdown = re.findall(pattern,tweetText)\n",
    "for i in tweet_breakdown:\n",
    "    dates.append(i[0])\n",
    "    users.append(i[1])\n",
    "    tweets.append(i[2])"
   ]
  },
  {
   "cell_type": "code",
   "execution_count": 12,
   "metadata": {
    "collapsed": false
   },
   "outputs": [],
   "source": [
    "tfidf = TfidfVectorizer(lowercase=True, analyzer='word', stop_words='english', tokenizer=LemmaTokenizer,\n",
    "                        ngram_range=(1, 2), binary=False, norm='l1', use_idf=True, smooth_idf=True)\n",
    "data = tfidf.fit_transform(tweets)"
   ]
  },
  {
   "cell_type": "code",
   "execution_count": 14,
   "metadata": {
    "collapsed": false
   },
   "outputs": [
    {
     "name": "stderr",
     "output_type": "stream",
     "text": [
      "[Parallel(n_jobs=6)]: Done  38 tasks      | elapsed:    0.0s\n",
      "[Parallel(n_jobs=6)]: Done 188 tasks      | elapsed:    0.4s\n",
      "[Parallel(n_jobs=6)]: Done 438 tasks      | elapsed:    1.1s\n",
      "[Parallel(n_jobs=6)]: Done 788 tasks      | elapsed:    2.5s\n",
      "[Parallel(n_jobs=6)]: Done 1000 out of 1000 | elapsed:    3.2s finished\n"
     ]
    },
    {
     "data": {
      "text/plain": [
       "RandomForestClassifier(bootstrap=False, class_weight=None,\n",
       "            criterion='entropy', max_depth=None, max_features='auto',\n",
       "            max_leaf_nodes=None, min_impurity_split=1e-07,\n",
       "            min_samples_leaf=1, min_samples_split=2,\n",
       "            min_weight_fraction_leaf=0.0, n_estimators=1000, n_jobs=6,\n",
       "            oob_score=False, random_state=20170202, verbose=1,\n",
       "            warm_start=False)"
      ]
     },
     "execution_count": 14,
     "metadata": {},
     "output_type": "execute_result"
    }
   ],
   "source": [
    "model = rfc(n_estimators=1000,criterion='entropy',max_features='auto',bootstrap=False,oob_score=False,n_jobs=6,\n",
    "           random_state=20170202,verbose=1)\n",
    "model.fit(data,sentiments)"
   ]
  },
  {
   "cell_type": "code",
   "execution_count": 15,
   "metadata": {
    "collapsed": false,
    "scrolled": true
   },
   "outputs": [],
   "source": [
    "features = tfidf.get_feature_names()\n",
    "importance = model.feature_importances_\n",
    "feature_summary = pandas.DataFrame({'name':features,'value':list(importance)})\n",
    "feature_summary.sort_values('value',ascending=False,inplace=True)"
   ]
  },
  {
   "cell_type": "code",
   "execution_count": 16,
   "metadata": {
    "collapsed": false,
    "scrolled": true
   },
   "outputs": [],
   "source": [
    "n = 25\n",
    "ngrams = feature_summary.head(n).index"
   ]
  },
  {
   "cell_type": "markdown",
   "metadata": {},
   "source": [
    "np.corrcoef(matrix[:,ngrams].todense())"
   ]
  },
  {
   "cell_type": "code",
   "execution_count": 19,
   "metadata": {
    "collapsed": false
   },
   "outputs": [],
   "source": [
    "rho = []\n",
    "pval = []\n",
    "for a in ngrams:\n",
    "    r,p = spcorr(data[:,a].toarray().flatten(),sentiments)\n",
    "    rho.append(r)\n",
    "    pval.append(p)\n",
    "    del r,p"
   ]
  },
  {
   "cell_type": "code",
   "execution_count": 20,
   "metadata": {
    "collapsed": false
   },
   "outputs": [
    {
     "data": {
      "text/html": [
       "<div>\n",
       "<table border=\"1\" class=\"dataframe\">\n",
       "  <thead>\n",
       "    <tr style=\"text-align: right;\">\n",
       "      <th></th>\n",
       "      <th>cor</th>\n",
       "      <th>name</th>\n",
       "      <th>pval</th>\n",
       "    </tr>\n",
       "  </thead>\n",
       "  <tbody>\n",
       "    <tr>\n",
       "      <th>4090</th>\n",
       "      <td>-0.244072</td>\n",
       "      <td>recognize</td>\n",
       "      <td>1.030415e-13</td>\n",
       "    </tr>\n",
       "    <tr>\n",
       "      <th>3911</th>\n",
       "      <td>-0.241665</td>\n",
       "      <td>practice</td>\n",
       "      <td>1.820745e-13</td>\n",
       "    </tr>\n",
       "    <tr>\n",
       "      <th>4092</th>\n",
       "      <td>-0.239239</td>\n",
       "      <td>recognize cybersecurity</td>\n",
       "      <td>3.211586e-13</td>\n",
       "    </tr>\n",
       "    <tr>\n",
       "      <th>837</th>\n",
       "      <td>-0.237693</td>\n",
       "      <td>cybersecurity</td>\n",
       "      <td>4.596063e-13</td>\n",
       "    </tr>\n",
       "    <tr>\n",
       "      <th>3071</th>\n",
       "      <td>-0.234329</td>\n",
       "      <td>mae recognize</td>\n",
       "      <td>9.940020e-13</td>\n",
       "    </tr>\n",
       "    <tr>\n",
       "      <th>3203</th>\n",
       "      <td>-0.229336</td>\n",
       "      <td>management</td>\n",
       "      <td>3.055423e-12</td>\n",
       "    </tr>\n",
       "    <tr>\n",
       "      <th>3204</th>\n",
       "      <td>-0.226806</td>\n",
       "      <td>management practice</td>\n",
       "      <td>5.343309e-12</td>\n",
       "    </tr>\n",
       "    <tr>\n",
       "      <th>839</th>\n",
       "      <td>-0.226806</td>\n",
       "      <td>cybersecurity management</td>\n",
       "      <td>5.343309e-12</td>\n",
       "    </tr>\n",
       "    <tr>\n",
       "      <th>3975</th>\n",
       "      <td>-0.224272</td>\n",
       "      <td>prologue http</td>\n",
       "      <td>9.293294e-12</td>\n",
       "    </tr>\n",
       "    <tr>\n",
       "      <th>3409</th>\n",
       "      <td>-0.183884</td>\n",
       "      <td>navient</td>\n",
       "      <td>2.612879e-08</td>\n",
       "    </tr>\n",
       "    <tr>\n",
       "      <th>1489</th>\n",
       "      <td>-0.176818</td>\n",
       "      <td>giant</td>\n",
       "      <td>8.883050e-08</td>\n",
       "    </tr>\n",
       "    <tr>\n",
       "      <th>4708</th>\n",
       "      <td>-0.125680</td>\n",
       "      <td>student loan</td>\n",
       "      <td>1.528029e-04</td>\n",
       "    </tr>\n",
       "    <tr>\n",
       "      <th>2704</th>\n",
       "      <td>-0.123060</td>\n",
       "      <td>loan</td>\n",
       "      <td>2.097854e-04</td>\n",
       "    </tr>\n",
       "    <tr>\n",
       "      <th>4703</th>\n",
       "      <td>-0.092610</td>\n",
       "      <td>student</td>\n",
       "      <td>5.351694e-03</td>\n",
       "    </tr>\n",
       "    <tr>\n",
       "      <th>2609</th>\n",
       "      <td>-0.060406</td>\n",
       "      <td>life</td>\n",
       "      <td>6.962695e-02</td>\n",
       "    </tr>\n",
       "    <tr>\n",
       "      <th>1766</th>\n",
       "      <td>-0.057155</td>\n",
       "      <td>http</td>\n",
       "      <td>8.606467e-02</td>\n",
       "    </tr>\n",
       "    <tr>\n",
       "      <th>3470</th>\n",
       "      <td>-0.051739</td>\n",
       "      <td>need</td>\n",
       "      <td>1.202720e-01</td>\n",
       "    </tr>\n",
       "    <tr>\n",
       "      <th>2155</th>\n",
       "      <td>-0.026011</td>\n",
       "      <td>https</td>\n",
       "      <td>4.349990e-01</td>\n",
       "    </tr>\n",
       "    <tr>\n",
       "      <th>2985</th>\n",
       "      <td>-0.017340</td>\n",
       "      <td>mae http</td>\n",
       "      <td>6.027987e-01</td>\n",
       "    </tr>\n",
       "    <tr>\n",
       "      <th>2622</th>\n",
       "      <td>0.014902</td>\n",
       "      <td>like</td>\n",
       "      <td>6.547253e-01</td>\n",
       "    </tr>\n",
       "    <tr>\n",
       "      <th>4318</th>\n",
       "      <td>0.016057</td>\n",
       "      <td>sallie mae</td>\n",
       "      <td>6.298952e-01</td>\n",
       "    </tr>\n",
       "    <tr>\n",
       "      <th>2874</th>\n",
       "      <td>0.016849</td>\n",
       "      <td>mae</td>\n",
       "      <td>6.131114e-01</td>\n",
       "    </tr>\n",
       "    <tr>\n",
       "      <th>4314</th>\n",
       "      <td>0.024062</td>\n",
       "      <td>sallie</td>\n",
       "      <td>4.701911e-01</td>\n",
       "    </tr>\n",
       "    <tr>\n",
       "      <th>4259</th>\n",
       "      <td>0.060231</td>\n",
       "      <td>s</td>\n",
       "      <td>7.043895e-02</td>\n",
       "    </tr>\n",
       "    <tr>\n",
       "      <th>3726</th>\n",
       "      <td>0.117707</td>\n",
       "      <td>pay</td>\n",
       "      <td>3.933081e-04</td>\n",
       "    </tr>\n",
       "  </tbody>\n",
       "</table>\n",
       "</div>"
      ],
      "text/plain": [
       "           cor                      name          pval\n",
       "4090 -0.244072                 recognize  1.030415e-13\n",
       "3911 -0.241665                  practice  1.820745e-13\n",
       "4092 -0.239239   recognize cybersecurity  3.211586e-13\n",
       "837  -0.237693             cybersecurity  4.596063e-13\n",
       "3071 -0.234329             mae recognize  9.940020e-13\n",
       "3203 -0.229336                management  3.055423e-12\n",
       "3204 -0.226806       management practice  5.343309e-12\n",
       "839  -0.226806  cybersecurity management  5.343309e-12\n",
       "3975 -0.224272             prologue http  9.293294e-12\n",
       "3409 -0.183884                   navient  2.612879e-08\n",
       "1489 -0.176818                     giant  8.883050e-08\n",
       "4708 -0.125680              student loan  1.528029e-04\n",
       "2704 -0.123060                      loan  2.097854e-04\n",
       "4703 -0.092610                   student  5.351694e-03\n",
       "2609 -0.060406                      life  6.962695e-02\n",
       "1766 -0.057155                      http  8.606467e-02\n",
       "3470 -0.051739                      need  1.202720e-01\n",
       "2155 -0.026011                     https  4.349990e-01\n",
       "2985 -0.017340                  mae http  6.027987e-01\n",
       "2622  0.014902                      like  6.547253e-01\n",
       "4318  0.016057                sallie mae  6.298952e-01\n",
       "2874  0.016849                       mae  6.131114e-01\n",
       "4314  0.024062                    sallie  4.701911e-01\n",
       "4259  0.060231                         s  7.043895e-02\n",
       "3726  0.117707                       pay  3.933081e-04"
      ]
     },
     "execution_count": 20,
     "metadata": {},
     "output_type": "execute_result"
    }
   ],
   "source": [
    "corr_summary = pandas.DataFrame({'name':feature_summary.head(n).name,'cor':rho,'pval':pval})\n",
    "corr_summary.sort_values('cor')"
   ]
  }
 ],
 "metadata": {
  "kernelspec": {
   "display_name": "Python 3",
   "language": "python",
   "name": "python3"
  },
  "language_info": {
   "codemirror_mode": {
    "name": "ipython",
    "version": 3
   },
   "file_extension": ".py",
   "mimetype": "text/x-python",
   "name": "python",
   "nbconvert_exporter": "python",
   "pygments_lexer": "ipython3",
   "version": "3.6.0"
  }
 },
 "nbformat": 4,
 "nbformat_minor": 2
}
